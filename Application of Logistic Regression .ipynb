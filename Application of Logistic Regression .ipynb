{
 "cells": [
  {
   "cell_type": "markdown",
   "id": "bd9cf526",
   "metadata": {},
   "source": [
    "# Logistic regression on student test"
   ]
  },
  {
   "cell_type": "code",
   "execution_count": 6,
   "id": "94960abd",
   "metadata": {},
   "outputs": [],
   "source": [
    "import pandas as pd\n",
    "import numpy as np\n",
    "import matplotlib.pyplot as plt\n",
    "import statistics"
   ]
  },
  {
   "cell_type": "code",
   "execution_count": 7,
   "id": "47953fcc",
   "metadata": {},
   "outputs": [],
   "source": [
    "Data = pd.read_csv(\"Student_Marks.csv\")"
   ]
  },
  {
   "cell_type": "code",
   "execution_count": 8,
   "id": "5bbb0c88",
   "metadata": {},
   "outputs": [
    {
     "name": "stdout",
     "output_type": "stream",
     "text": [
      "    number_courses  time_study   Marks\n",
      "0                3       4.508  19.202\n",
      "96               3       0.301   5.609\n",
      "87               3       1.033   6.053\n",
      "79               3       0.805   6.349\n",
      "75               3       0.803   6.217\n",
      "..             ...         ...     ...\n",
      "59               8       7.468  51.343\n",
      "56               8       7.641  53.359\n",
      "54               8       7.591  53.158\n",
      "85               8       6.201  39.957\n",
      "17               8       6.080  38.490\n",
      "\n",
      "[100 rows x 3 columns]\n"
     ]
    }
   ],
   "source": [
    "Data.sort_values(by=['number_courses'], inplace=True)\n",
    "print(Data)"
   ]
  },
  {
   "cell_type": "code",
   "execution_count": 9,
   "id": "eec926f6",
   "metadata": {},
   "outputs": [
    {
     "name": "stdout",
     "output_type": "stream",
     "text": [
      "24.41769\n"
     ]
    }
   ],
   "source": [
    "print(statistics.mean(Data.Marks))"
   ]
  },
  {
   "cell_type": "code",
   "execution_count": 10,
   "id": "07418a31",
   "metadata": {},
   "outputs": [
    {
     "name": "stdout",
     "output_type": "stream",
     "text": [
      "    number_courses  time_study   Marks  Pass_or_Fail\n",
      "0                3       4.508  19.202             0\n",
      "96               3       0.301   5.609             0\n",
      "87               3       1.033   6.053             0\n",
      "79               3       0.805   6.349             0\n",
      "75               3       0.803   6.217             0\n",
      "..             ...         ...     ...           ...\n",
      "59               8       7.468  51.343             1\n",
      "56               8       7.641  53.359             1\n",
      "54               8       7.591  53.158             1\n",
      "85               8       6.201  39.957             1\n",
      "17               8       6.080  38.490             1\n",
      "\n",
      "[100 rows x 4 columns]\n"
     ]
    }
   ],
   "source": [
    "Pass_or_Fail = []\n",
    "for row in Data['Marks']:\n",
    "    if row <= 25.0 :\n",
    "        Pass_or_Fail.append(0)\n",
    "    else:\n",
    "        Pass_or_Fail.append(1)\n",
    "Data['Pass_or_Fail'] = Pass_or_Fail\n",
    "print(Data)"
   ]
  },
  {
   "cell_type": "code",
   "execution_count": 11,
   "id": "c7a8e65a",
   "metadata": {},
   "outputs": [],
   "source": [
    "x = Data.iloc[:,1:2].values\n",
    "y = Data.iloc[:, -1].values"
   ]
  },
  {
   "cell_type": "code",
   "execution_count": 12,
   "id": "a69a1250",
   "metadata": {},
   "outputs": [],
   "source": [
    "from sklearn.model_selection import train_test_split\n",
    "x_train, x_test, y_train, y_test = train_test_split(x,y, test_size = 0.25, random_state = 0)"
   ]
  },
  {
   "cell_type": "code",
   "execution_count": 13,
   "id": "00661184",
   "metadata": {},
   "outputs": [],
   "source": [
    "y_train.reshape(len(y_train),1);"
   ]
  },
  {
   "cell_type": "code",
   "execution_count": 14,
   "id": "d47ee379",
   "metadata": {},
   "outputs": [
    {
     "data": {
      "text/plain": [
       "<AxesSubplot:xlabel='time_study', ylabel='Pass_or_Fail'>"
      ]
     },
     "execution_count": 14,
     "metadata": {},
     "output_type": "execute_result"
    },
    {
     "data": {
      "image/png": "[encoded data removed]",
      "text/plain": [
       "<Figure size 432x288 with 1 Axes>"
      ]
     },
     "metadata": {
      "needs_background": "light"
     },
     "output_type": "display_data"
    }
   ],
   "source": [
    "from sklearn.linear_model import LogisticRegression\n",
    "import seaborn as sns\n",
    "reg = LogisticRegression(random_state = 0)\n",
    "reg.fit(x_train, y_train)\n",
    "y_predict = reg.predict (x_test)\n",
    "sns.regplot(x = 'time_study', y = 'Pass_or_Fail', data = Data, logistic=True, ci=None)"
   ]
  },
  {
   "cell_type": "code",
   "execution_count": 15,
   "id": "df62c07a",
   "metadata": {},
   "outputs": [
    {
     "name": "stdout",
     "output_type": "stream",
     "text": [
      "[[15  1]\n",
      " [ 0  9]]\n"
     ]
    },
    {
     "data": {
      "text/plain": [
       "0.96"
      ]
     },
     "execution_count": 15,
     "metadata": {},
     "output_type": "execute_result"
    }
   ],
   "source": [
    "from sklearn.metrics import confusion_matrix,accuracy_score \n",
    "cm = confusion_matrix(y_test,y_predict)\n",
    "print(cm)\n",
    "accuracy_score(y_test, y_predict)"
   ]
  }
 ],
 "metadata": {
  "kernelspec": {
   "display_name": "Python 3",
   "language": "python",
   "name": "python3"
  },
  "language_info": {
   "codemirror_mode": {
    "name": "ipython",
    "version": 3
   },
   "file_extension": ".py",
   "mimetype": "text/x-python",
   "name": "python",
   "nbconvert_exporter": "python",
   "pygments_lexer": "ipython3",
   "version": "3.8.5"
  }
 },
 "nbformat": 4,
 "nbformat_minor": 5
}
